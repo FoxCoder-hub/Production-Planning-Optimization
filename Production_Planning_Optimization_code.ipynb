{
  "nbformat": 4,
  "nbformat_minor": 0,
  "metadata": {
    "colab": {
      "provenance": [],
      "authorship_tag": "ABX9TyObqsrJhbEFQTa/9ujiD8LF",
      "include_colab_link": true
    },
    "kernelspec": {
      "name": "python3",
      "display_name": "Python 3"
    },
    "language_info": {
      "name": "python"
    },
    "widgets": {
      "application/vnd.jupyter.widget-state+json": {
        "8f0bd879e7dc4917ad29ac6387a287fc": {
          "model_module": "@jupyter-widgets/controls",
          "model_name": "ButtonModel",
          "model_module_version": "1.5.0",
          "state": {
            "_dom_classes": [],
            "_model_module": "@jupyter-widgets/controls",
            "_model_module_version": "1.5.0",
            "_model_name": "ButtonModel",
            "_view_count": null,
            "_view_module": "@jupyter-widgets/controls",
            "_view_module_version": "1.5.0",
            "_view_name": "ButtonView",
            "button_style": "",
            "description": "Production cumulative",
            "disabled": false,
            "icon": "",
            "layout": "IPY_MODEL_72eb5ca4a01b4559a09b6ca76e6db1f9",
            "style": "IPY_MODEL_4061ec1197304faeb839960de6481036",
            "tooltip": ""
          }
        },
        "72eb5ca4a01b4559a09b6ca76e6db1f9": {
          "model_module": "@jupyter-widgets/base",
          "model_name": "LayoutModel",
          "model_module_version": "1.2.0",
          "state": {
            "_model_module": "@jupyter-widgets/base",
            "_model_module_version": "1.2.0",
            "_model_name": "LayoutModel",
            "_view_count": null,
            "_view_module": "@jupyter-widgets/base",
            "_view_module_version": "1.2.0",
            "_view_name": "LayoutView",
            "align_content": null,
            "align_items": null,
            "align_self": null,
            "border": null,
            "bottom": null,
            "display": null,
            "flex": null,
            "flex_flow": null,
            "grid_area": null,
            "grid_auto_columns": null,
            "grid_auto_flow": null,
            "grid_auto_rows": null,
            "grid_column": null,
            "grid_gap": null,
            "grid_row": null,
            "grid_template_areas": null,
            "grid_template_columns": null,
            "grid_template_rows": null,
            "height": null,
            "justify_content": null,
            "justify_items": null,
            "left": null,
            "margin": null,
            "max_height": null,
            "max_width": null,
            "min_height": null,
            "min_width": null,
            "object_fit": null,
            "object_position": null,
            "order": null,
            "overflow": null,
            "overflow_x": null,
            "overflow_y": null,
            "padding": null,
            "right": null,
            "top": null,
            "visibility": null,
            "width": null
          }
        },
        "4061ec1197304faeb839960de6481036": {
          "model_module": "@jupyter-widgets/controls",
          "model_name": "ButtonStyleModel",
          "model_module_version": "1.5.0",
          "state": {
            "_model_module": "@jupyter-widgets/controls",
            "_model_module_version": "1.5.0",
            "_model_name": "ButtonStyleModel",
            "_view_count": null,
            "_view_module": "@jupyter-widgets/base",
            "_view_module_version": "1.2.0",
            "_view_name": "StyleView",
            "button_color": null,
            "font_weight": ""
          }
        },
        "1c2a1ad54d5542f0ab40ce90e43569b5": {
          "model_module": "@jupyter-widgets/controls",
          "model_name": "ButtonModel",
          "model_module_version": "1.5.0",
          "state": {
            "_dom_classes": [],
            "_model_module": "@jupyter-widgets/controls",
            "_model_module_version": "1.5.0",
            "_model_name": "ButtonModel",
            "_view_count": null,
            "_view_module": "@jupyter-widgets/controls",
            "_view_module_version": "1.5.0",
            "_view_name": "ButtonView",
            "button_style": "",
            "description": "Demande",
            "disabled": false,
            "icon": "",
            "layout": "IPY_MODEL_ee0c4f8e82ff4c14a43b77f6dbeb3750",
            "style": "IPY_MODEL_881deea172a94c50a0cacb53931c151f",
            "tooltip": ""
          }
        },
        "ee0c4f8e82ff4c14a43b77f6dbeb3750": {
          "model_module": "@jupyter-widgets/base",
          "model_name": "LayoutModel",
          "model_module_version": "1.2.0",
          "state": {
            "_model_module": "@jupyter-widgets/base",
            "_model_module_version": "1.2.0",
            "_model_name": "LayoutModel",
            "_view_count": null,
            "_view_module": "@jupyter-widgets/base",
            "_view_module_version": "1.2.0",
            "_view_name": "LayoutView",
            "align_content": null,
            "align_items": null,
            "align_self": null,
            "border": null,
            "bottom": null,
            "display": null,
            "flex": null,
            "flex_flow": null,
            "grid_area": null,
            "grid_auto_columns": null,
            "grid_auto_flow": null,
            "grid_auto_rows": null,
            "grid_column": null,
            "grid_gap": null,
            "grid_row": null,
            "grid_template_areas": null,
            "grid_template_columns": null,
            "grid_template_rows": null,
            "height": null,
            "justify_content": null,
            "justify_items": null,
            "left": null,
            "margin": null,
            "max_height": null,
            "max_width": null,
            "min_height": null,
            "min_width": null,
            "object_fit": null,
            "object_position": null,
            "order": null,
            "overflow": null,
            "overflow_x": null,
            "overflow_y": null,
            "padding": null,
            "right": null,
            "top": null,
            "visibility": null,
            "width": null
          }
        },
        "881deea172a94c50a0cacb53931c151f": {
          "model_module": "@jupyter-widgets/controls",
          "model_name": "ButtonStyleModel",
          "model_module_version": "1.5.0",
          "state": {
            "_model_module": "@jupyter-widgets/controls",
            "_model_module_version": "1.5.0",
            "_model_name": "ButtonStyleModel",
            "_view_count": null,
            "_view_module": "@jupyter-widgets/base",
            "_view_module_version": "1.2.0",
            "_view_name": "StyleView",
            "button_color": null,
            "font_weight": ""
          }
        },
        "6a6128d8ec5b4b6f9724965f3dd211bd": {
          "model_module": "@jupyter-widgets/controls",
          "model_name": "ButtonModel",
          "model_module_version": "1.5.0",
          "state": {
            "_dom_classes": [],
            "_model_module": "@jupyter-widgets/controls",
            "_model_module_version": "1.5.0",
            "_model_name": "ButtonModel",
            "_view_count": null,
            "_view_module": "@jupyter-widgets/controls",
            "_view_module_version": "1.5.0",
            "_view_name": "ButtonView",
            "button_style": "",
            "description": "Embauche/Licenciement",
            "disabled": false,
            "icon": "",
            "layout": "IPY_MODEL_8294ae12fd1a4146b4d8572bf4349a7f",
            "style": "IPY_MODEL_8ec0942595884e5c943cb81b1453cddd",
            "tooltip": ""
          }
        },
        "8294ae12fd1a4146b4d8572bf4349a7f": {
          "model_module": "@jupyter-widgets/base",
          "model_name": "LayoutModel",
          "model_module_version": "1.2.0",
          "state": {
            "_model_module": "@jupyter-widgets/base",
            "_model_module_version": "1.2.0",
            "_model_name": "LayoutModel",
            "_view_count": null,
            "_view_module": "@jupyter-widgets/base",
            "_view_module_version": "1.2.0",
            "_view_name": "LayoutView",
            "align_content": null,
            "align_items": null,
            "align_self": null,
            "border": null,
            "bottom": null,
            "display": null,
            "flex": null,
            "flex_flow": null,
            "grid_area": null,
            "grid_auto_columns": null,
            "grid_auto_flow": null,
            "grid_auto_rows": null,
            "grid_column": null,
            "grid_gap": null,
            "grid_row": null,
            "grid_template_areas": null,
            "grid_template_columns": null,
            "grid_template_rows": null,
            "height": null,
            "justify_content": null,
            "justify_items": null,
            "left": null,
            "margin": null,
            "max_height": null,
            "max_width": null,
            "min_height": null,
            "min_width": null,
            "object_fit": null,
            "object_position": null,
            "order": null,
            "overflow": null,
            "overflow_x": null,
            "overflow_y": null,
            "padding": null,
            "right": null,
            "top": null,
            "visibility": null,
            "width": null
          }
        },
        "8ec0942595884e5c943cb81b1453cddd": {
          "model_module": "@jupyter-widgets/controls",
          "model_name": "ButtonStyleModel",
          "model_module_version": "1.5.0",
          "state": {
            "_model_module": "@jupyter-widgets/controls",
            "_model_module_version": "1.5.0",
            "_model_name": "ButtonStyleModel",
            "_view_count": null,
            "_view_module": "@jupyter-widgets/base",
            "_view_module_version": "1.2.0",
            "_view_name": "StyleView",
            "button_color": null,
            "font_weight": ""
          }
        },
        "25c384c997b74ec79c8e88ae6d8b9107": {
          "model_module": "@jupyter-widgets/controls",
          "model_name": "ButtonModel",
          "model_module_version": "1.5.0",
          "state": {
            "_dom_classes": [],
            "_model_module": "@jupyter-widgets/controls",
            "_model_module_version": "1.5.0",
            "_model_name": "ButtonModel",
            "_view_count": null,
            "_view_module": "@jupyter-widgets/controls",
            "_view_module_version": "1.5.0",
            "_view_name": "ButtonView",
            "button_style": "",
            "description": "Coût total",
            "disabled": false,
            "icon": "",
            "layout": "IPY_MODEL_93c00ed5c4124d9485f8e471021d2754",
            "style": "IPY_MODEL_9a8b12e24a2b40e3a9782704ef614fc4",
            "tooltip": ""
          }
        },
        "93c00ed5c4124d9485f8e471021d2754": {
          "model_module": "@jupyter-widgets/base",
          "model_name": "LayoutModel",
          "model_module_version": "1.2.0",
          "state": {
            "_model_module": "@jupyter-widgets/base",
            "_model_module_version": "1.2.0",
            "_model_name": "LayoutModel",
            "_view_count": null,
            "_view_module": "@jupyter-widgets/base",
            "_view_module_version": "1.2.0",
            "_view_name": "LayoutView",
            "align_content": null,
            "align_items": null,
            "align_self": null,
            "border": null,
            "bottom": null,
            "display": null,
            "flex": null,
            "flex_flow": null,
            "grid_area": null,
            "grid_auto_columns": null,
            "grid_auto_flow": null,
            "grid_auto_rows": null,
            "grid_column": null,
            "grid_gap": null,
            "grid_row": null,
            "grid_template_areas": null,
            "grid_template_columns": null,
            "grid_template_rows": null,
            "height": null,
            "justify_content": null,
            "justify_items": null,
            "left": null,
            "margin": null,
            "max_height": null,
            "max_width": null,
            "min_height": null,
            "min_width": null,
            "object_fit": null,
            "object_position": null,
            "order": null,
            "overflow": null,
            "overflow_x": null,
            "overflow_y": null,
            "padding": null,
            "right": null,
            "top": null,
            "visibility": null,
            "width": null
          }
        },
        "9a8b12e24a2b40e3a9782704ef614fc4": {
          "model_module": "@jupyter-widgets/controls",
          "model_name": "ButtonStyleModel",
          "model_module_version": "1.5.0",
          "state": {
            "_model_module": "@jupyter-widgets/controls",
            "_model_module_version": "1.5.0",
            "_model_name": "ButtonStyleModel",
            "_view_count": null,
            "_view_module": "@jupyter-widgets/base",
            "_view_module_version": "1.2.0",
            "_view_name": "StyleView",
            "button_color": null,
            "font_weight": ""
          }
        },
        "35a8f584bb214987afbde52525a49ca9": {
          "model_module": "@jupyter-widgets/output",
          "model_name": "OutputModel",
          "model_module_version": "1.0.0",
          "state": {
            "_dom_classes": [],
            "_model_module": "@jupyter-widgets/output",
            "_model_module_version": "1.0.0",
            "_model_name": "OutputModel",
            "_view_count": null,
            "_view_module": "@jupyter-widgets/output",
            "_view_module_version": "1.0.0",
            "_view_name": "OutputView",
            "layout": "IPY_MODEL_c25c829104cb41cab2bb4f978b6babd9",
            "msg_id": "",
            "outputs": [
              {
                "output_type": "stream",
                "name": "stdout",
                "text": [
                  "Coût total: 1744500 DT\n"
                ]
              }
            ]
          }
        },
        "c25c829104cb41cab2bb4f978b6babd9": {
          "model_module": "@jupyter-widgets/base",
          "model_name": "LayoutModel",
          "model_module_version": "1.2.0",
          "state": {
            "_model_module": "@jupyter-widgets/base",
            "_model_module_version": "1.2.0",
            "_model_name": "LayoutModel",
            "_view_count": null,
            "_view_module": "@jupyter-widgets/base",
            "_view_module_version": "1.2.0",
            "_view_name": "LayoutView",
            "align_content": null,
            "align_items": null,
            "align_self": null,
            "border": null,
            "bottom": null,
            "display": null,
            "flex": null,
            "flex_flow": null,
            "grid_area": null,
            "grid_auto_columns": null,
            "grid_auto_flow": null,
            "grid_auto_rows": null,
            "grid_column": null,
            "grid_gap": null,
            "grid_row": null,
            "grid_template_areas": null,
            "grid_template_columns": null,
            "grid_template_rows": null,
            "height": null,
            "justify_content": null,
            "justify_items": null,
            "left": null,
            "margin": null,
            "max_height": null,
            "max_width": null,
            "min_height": null,
            "min_width": null,
            "object_fit": null,
            "object_position": null,
            "order": null,
            "overflow": null,
            "overflow_x": null,
            "overflow_y": null,
            "padding": null,
            "right": null,
            "top": null,
            "visibility": null,
            "width": null
          }
        }
      }
    }
  },
  "cells": [
    {
      "cell_type": "markdown",
      "metadata": {
        "id": "view-in-github",
        "colab_type": "text"
      },
      "source": [
        "<a href=\"https://colab.research.google.com/github/FoxCoder-hub/Production-Planning-Optimization/blob/main/Production_Planning_Optimization_code.ipynb\" target=\"_parent\"><img src=\"https://colab.research.google.com/assets/colab-badge.svg\" alt=\"Open In Colab\"/></a>"
      ]
    },
    {
      "cell_type": "code",
      "source": [
        "!pip install mplcursors\n",
        "import mplcursors  # Import mplcursors library"
      ],
      "metadata": {
        "colab": {
          "base_uri": "https://localhost:8080/"
        },
        "collapsed": true,
        "id": "0J7kxbZBJ_4M",
        "outputId": "7e1431ed-3b02-48bb-923d-95d133e3f03d"
      },
      "execution_count": null,
      "outputs": [
        {
          "output_type": "stream",
          "name": "stdout",
          "text": [
            "Requirement already satisfied: mplcursors in /usr/local/lib/python3.11/dist-packages (0.6)\n",
            "Requirement already satisfied: matplotlib!=3.7.1,>=3.1 in /usr/local/lib/python3.11/dist-packages (from mplcursors) (3.10.0)\n",
            "Requirement already satisfied: contourpy>=1.0.1 in /usr/local/lib/python3.11/dist-packages (from matplotlib!=3.7.1,>=3.1->mplcursors) (1.3.2)\n",
            "Requirement already satisfied: cycler>=0.10 in /usr/local/lib/python3.11/dist-packages (from matplotlib!=3.7.1,>=3.1->mplcursors) (0.12.1)\n",
            "Requirement already satisfied: fonttools>=4.22.0 in /usr/local/lib/python3.11/dist-packages (from matplotlib!=3.7.1,>=3.1->mplcursors) (4.59.0)\n",
            "Requirement already satisfied: kiwisolver>=1.3.1 in /usr/local/lib/python3.11/dist-packages (from matplotlib!=3.7.1,>=3.1->mplcursors) (1.4.8)\n",
            "Requirement already satisfied: numpy>=1.23 in /usr/local/lib/python3.11/dist-packages (from matplotlib!=3.7.1,>=3.1->mplcursors) (2.0.2)\n",
            "Requirement already satisfied: packaging>=20.0 in /usr/local/lib/python3.11/dist-packages (from matplotlib!=3.7.1,>=3.1->mplcursors) (25.0)\n",
            "Requirement already satisfied: pillow>=8 in /usr/local/lib/python3.11/dist-packages (from matplotlib!=3.7.1,>=3.1->mplcursors) (11.3.0)\n",
            "Requirement already satisfied: pyparsing>=2.3.1 in /usr/local/lib/python3.11/dist-packages (from matplotlib!=3.7.1,>=3.1->mplcursors) (3.2.3)\n",
            "Requirement already satisfied: python-dateutil>=2.7 in /usr/local/lib/python3.11/dist-packages (from matplotlib!=3.7.1,>=3.1->mplcursors) (2.9.0.post0)\n",
            "Requirement already satisfied: six>=1.5 in /usr/local/lib/python3.11/dist-packages (from python-dateutil>=2.7->matplotlib!=3.7.1,>=3.1->mplcursors) (1.17.0)\n"
          ]
        }
      ]
    },
    {
      "cell_type": "code",
      "source": [
        "import matplotlib.pyplot as plt\n",
        "from IPython.display import display\n",
        "import ipywidgets as widgets\n",
        "\n",
        "# Your existing data and functions remain the same\n",
        "d1 = [1400, 1700, 1000, 1100, 1300, 1500]\n",
        "d2 = [2400, 1800, 1200, 700, 900, 1900]\n",
        "\n",
        "def solution_heuristique(d1, d2):\n",
        "    # Your existing implementation\n",
        "    effectif_initial = 65\n",
        "    effectif = [effectif_initial] * 7\n",
        "    embauches = [0] * 6\n",
        "    licenciements = [0] * 6\n",
        "    cout_total = 0\n",
        "\n",
        "    for i in range(6):\n",
        "        production_p1 = min(d1[i], effectif[i] * 8 * 20 / 3.5)\n",
        "        production_p2 = min(d2[i], effectif[i] * 8 * 20 / 2.5)\n",
        "\n",
        "        if production_p1 * 3.5 + production_p2 * 2.5 > 160 * effectif[i]:\n",
        "            embauches[i] = max(0, int((production_p1 * 3.5 + production_p2 * 2.5) / 160) - effectif[i])\n",
        "            cout_total += embauches[i] * 800\n",
        "\n",
        "        elif production_p1 * 3.5 + production_p2 * 2.5 < 160 * effectif[i]:\n",
        "            licenciements[i] = max(0, effectif[i] - int((production_p1 * 3.5 + production_p2 * 2.5) / 160))\n",
        "            cout_total += licenciements[i] * 1600\n",
        "\n",
        "        effectif[i+1] = effectif[i] + embauches[i] - licenciements[i]\n",
        "        cout_travail = effectif[i] * 8 * 20 * 18\n",
        "        cout_production_mois = (production_p1 + production_p2) * 45\n",
        "        cout_total += cout_production_mois + cout_travail\n",
        "\n",
        "    return embauches, licenciements, cout_total\n",
        "\n",
        "# Set up matplotlib for Colab\n",
        "%matplotlib inline\n",
        "\n",
        "# Create widgets for interaction\n",
        "button_production = widgets.Button(description=\"Production cumulative\")\n",
        "button_demand = widgets.Button(description=\"Demande\")\n",
        "button_hiring = widgets.Button(description=\"Embauche/Licenciement\")\n",
        "button_cost = widgets.Button(description=\"Coût total\")\n",
        "output = widgets.Output()\n",
        "\n",
        "# Display buttons\n",
        "display(button_production, button_demand, button_hiring, button_cost, output)\n",
        "\n",
        "# Button click handlers\n",
        "def on_production_click(b):\n",
        "    with output:\n",
        "        output.clear_output()\n",
        "        plt.figure(figsize=(8, 4))\n",
        "        plt.plot(range(1, 7), [sum(d1[:i]) for i in range(1, 7)], label='Production P1')\n",
        "        plt.plot(range(1, 7), [sum(d2[:i]) for i in range(1, 7)], label='Production P2')\n",
        "        plt.title('Production cumulative')\n",
        "        plt.xlabel('Mois')\n",
        "        plt.ylabel('Production')\n",
        "        plt.legend()\n",
        "        plt.show()\n",
        "\n",
        "def on_demand_click(b):\n",
        "    with output:\n",
        "        output.clear_output()\n",
        "        plt.figure(figsize=(8, 4))\n",
        "        plt.plot(range(1, 7), d1, label='Demand P1')\n",
        "        plt.plot(range(1, 7), d2, label='Demand P2')\n",
        "        plt.title('Demande')\n",
        "        plt.xlabel('Mois')\n",
        "        plt.ylabel('Demande')\n",
        "        plt.legend()\n",
        "        plt.show()\n",
        "\n",
        "def on_hiring_click(b):\n",
        "    with output:\n",
        "        output.clear_output()\n",
        "        embauches, licenciements, _ = solution_heuristique(d1, d2)\n",
        "        plt.figure(figsize=(8, 4))\n",
        "        plt.plot(range(1, 7), embauches, label='Embauches')\n",
        "        plt.plot(range(1, 7), licenciements, label='Licenciements')\n",
        "        plt.title('Embauches/Licenciements')\n",
        "        plt.xlabel('Mois')\n",
        "        plt.ylabel('Nombre d\\'employees')\n",
        "        plt.legend()\n",
        "        plt.show()\n",
        "\n",
        "def on_cost_click(b):\n",
        "    with output:\n",
        "        output.clear_output()\n",
        "        _, _, cout_total = solution_heuristique(d1, d2)\n",
        "        print(f\"Coût total: {cout_total} DT\")\n",
        "\n",
        "# Connect buttons to handlers\n",
        "button_production.on_click(on_production_click)\n",
        "button_demand.on_click(on_demand_click)\n",
        "button_hiring.on_click(on_hiring_click)\n",
        "button_cost.on_click(on_cost_click)"
      ],
      "metadata": {
        "colab": {
          "base_uri": "https://localhost:8080/",
          "height": 162,
          "referenced_widgets": [
            "8f0bd879e7dc4917ad29ac6387a287fc",
            "72eb5ca4a01b4559a09b6ca76e6db1f9",
            "4061ec1197304faeb839960de6481036",
            "1c2a1ad54d5542f0ab40ce90e43569b5",
            "ee0c4f8e82ff4c14a43b77f6dbeb3750",
            "881deea172a94c50a0cacb53931c151f",
            "6a6128d8ec5b4b6f9724965f3dd211bd",
            "8294ae12fd1a4146b4d8572bf4349a7f",
            "8ec0942595884e5c943cb81b1453cddd",
            "25c384c997b74ec79c8e88ae6d8b9107",
            "93c00ed5c4124d9485f8e471021d2754",
            "9a8b12e24a2b40e3a9782704ef614fc4",
            "35a8f584bb214987afbde52525a49ca9",
            "c25c829104cb41cab2bb4f978b6babd9"
          ]
        },
        "id": "2FT6ivxnK4D2",
        "outputId": "f40c1e23-fb41-49cb-d0a4-2f51c833fbc4"
      },
      "execution_count": null,
      "outputs": [
        {
          "output_type": "display_data",
          "data": {
            "text/plain": [
              "Button(description='Production cumulative', style=ButtonStyle())"
            ],
            "application/vnd.jupyter.widget-view+json": {
              "version_major": 2,
              "version_minor": 0,
              "model_id": "8f0bd879e7dc4917ad29ac6387a287fc"
            }
          },
          "metadata": {}
        },
        {
          "output_type": "display_data",
          "data": {
            "text/plain": [
              "Button(description='Demande', style=ButtonStyle())"
            ],
            "application/vnd.jupyter.widget-view+json": {
              "version_major": 2,
              "version_minor": 0,
              "model_id": "1c2a1ad54d5542f0ab40ce90e43569b5"
            }
          },
          "metadata": {}
        },
        {
          "output_type": "display_data",
          "data": {
            "text/plain": [
              "Button(description='Embauche/Licenciement', style=ButtonStyle())"
            ],
            "application/vnd.jupyter.widget-view+json": {
              "version_major": 2,
              "version_minor": 0,
              "model_id": "6a6128d8ec5b4b6f9724965f3dd211bd"
            }
          },
          "metadata": {}
        },
        {
          "output_type": "display_data",
          "data": {
            "text/plain": [
              "Button(description='Coût total', style=ButtonStyle())"
            ],
            "application/vnd.jupyter.widget-view+json": {
              "version_major": 2,
              "version_minor": 0,
              "model_id": "25c384c997b74ec79c8e88ae6d8b9107"
            }
          },
          "metadata": {}
        },
        {
          "output_type": "display_data",
          "data": {
            "text/plain": [
              "Output()"
            ],
            "application/vnd.jupyter.widget-view+json": {
              "version_major": 2,
              "version_minor": 0,
              "model_id": "35a8f584bb214987afbde52525a49ca9"
            }
          },
          "metadata": {}
        }
      ]
    }
  ]
}